{
 "cells": [
  {
   "cell_type": "code",
   "execution_count": 1,
   "id": "30596edb",
   "metadata": {
    "_cell_guid": "b1076dfc-b9ad-4769-8c92-a6c4dae69d19",
    "_uuid": "8f2839f25d086af736a60e9eeb907d3b93b6e0e5",
    "execution": {
     "iopub.execute_input": "2025-04-01T12:06:53.548752Z",
     "iopub.status.busy": "2025-04-01T12:06:53.548380Z",
     "iopub.status.idle": "2025-04-01T12:06:54.551791Z",
     "shell.execute_reply": "2025-04-01T12:06:54.550360Z"
    },
    "papermill": {
     "duration": 1.010587,
     "end_time": "2025-04-01T12:06:54.554015",
     "exception": false,
     "start_time": "2025-04-01T12:06:53.543428",
     "status": "completed"
    },
    "tags": []
   },
   "outputs": [
    {
     "name": "stdout",
     "output_type": "stream",
     "text": [
      "/kaggle/input/houseprice/hprice.csv\n"
     ]
    }
   ],
   "source": [
    "# This Python 3 environment comes with many helpful analytics libraries installed\n",
    "# It is defined by the kaggle/python Docker image: https://github.com/kaggle/docker-python\n",
    "# For example, here's several helpful packages to load\n",
    "\n",
    "import numpy as np # linear algebra\n",
    "import pandas as pd # data processing, CSV file I/O (e.g. pd.read_csv)\n",
    "\n",
    "# Input data files are available in the read-only \"../input/\" directory\n",
    "# For example, running this (by clicking run or pressing Shift+Enter) will list all files under the input directory\n",
    "\n",
    "import os\n",
    "for dirname, _, filenames in os.walk('/kaggle/input'):\n",
    "    for filename in filenames:\n",
    "        print(os.path.join(dirname, filename))\n",
    "\n",
    "# You can write up to 20GB to the current directory (/kaggle/working/) that gets preserved as output when you create a version using \"Save & Run All\" \n",
    "# You can also write temporary files to /kaggle/temp/, but they won't be saved outside of the current session"
   ]
  },
  {
   "cell_type": "code",
   "execution_count": 2,
   "id": "54cfab62",
   "metadata": {
    "execution": {
     "iopub.execute_input": "2025-04-01T12:06:54.562952Z",
     "iopub.status.busy": "2025-04-01T12:06:54.562468Z",
     "iopub.status.idle": "2025-04-01T12:06:57.133980Z",
     "shell.execute_reply": "2025-04-01T12:06:57.132809Z"
    },
    "papermill": {
     "duration": 2.578048,
     "end_time": "2025-04-01T12:06:57.136047",
     "exception": false,
     "start_time": "2025-04-01T12:06:54.557999",
     "status": "completed"
    },
    "tags": []
   },
   "outputs": [],
   "source": [
    "import pandas as pd\n",
    "import numpy as np\n",
    "from sklearn.model_selection import train_test_split\n",
    "from sklearn.linear_model import LinearRegression\n",
    "from sklearn.tree import DecisionTreeRegressor\n",
    "from sklearn.metrics import mean_squared_error, r2_score\n",
    "from sklearn.preprocessing import LabelEncoder\n",
    "import matplotlib.pyplot as plt\n",
    "import seaborn as sns\n",
    "import os\n",
    "import ipywidgets as widgets\n",
    "from IPython.display import display"
   ]
  },
  {
   "cell_type": "code",
   "execution_count": 3,
   "id": "003bbbe2",
   "metadata": {
    "execution": {
     "iopub.execute_input": "2025-04-01T12:06:57.144828Z",
     "iopub.status.busy": "2025-04-01T12:06:57.144319Z",
     "iopub.status.idle": "2025-04-01T12:06:57.168949Z",
     "shell.execute_reply": "2025-04-01T12:06:57.167693Z"
    },
    "papermill": {
     "duration": 0.031165,
     "end_time": "2025-04-01T12:06:57.170951",
     "exception": false,
     "start_time": "2025-04-01T12:06:57.139786",
     "status": "completed"
    },
    "tags": []
   },
   "outputs": [
    {
     "name": "stdout",
     "output_type": "stream",
     "text": [
      "Found file at: /kaggle/input/houseprice/hprice.csv\n"
     ]
    }
   ],
   "source": [
    "def load_data():\n",
    "    # First try to find the correct path automatically\n",
    "    for dirname, _, filenames in os.walk('/kaggle/input'):\n",
    "        if 'hprice.csv' in filenames:\n",
    "            correct_path = os.path.join(dirname, 'hprice.csv')\n",
    "            print(f\"Found file at: {correct_path}\")\n",
    "            return pd.read_csv(correct_path)\n",
    "    \n",
    "    # If automatic detection fails, try common paths\n",
    "    common_paths = [\n",
    "        '/kaggle/input/house-price-dataset/hprice.csv',\n",
    "        '/kaggle/input/house-prices-advanced-regression-techniques/hprice.csv',\n",
    "        '/kaggle/input/hprice.csv',\n",
    "        'hprice.csv'\n",
    "    ]\n",
    "    \n",
    "    for path in common_paths:\n",
    "        try:\n",
    "            return pd.read_csv(path)\n",
    "        except FileNotFoundError:\n",
    "            continue\n",
    "    \n",
    "    raise FileNotFoundError(\n",
    "        \"Could not find hprice.csv. Please ensure: \\n\"\n",
    "        \"1. The file is uploaded to Kaggle\\n\"\n",
    "        \"2. Check the correct path in the Kaggle file browser\\n\"\n",
    "        \"3. The filename is exactly 'hprice.csv' (case sensitive)\"\n",
    "    )\n",
    "\n",
    "data = load_data()"
   ]
  },
  {
   "cell_type": "code",
   "execution_count": 4,
   "id": "895fb12f",
   "metadata": {
    "execution": {
     "iopub.execute_input": "2025-04-01T12:06:57.180256Z",
     "iopub.status.busy": "2025-04-01T12:06:57.179828Z",
     "iopub.status.idle": "2025-04-01T12:06:57.185614Z",
     "shell.execute_reply": "2025-04-01T12:06:57.184431Z"
    },
    "papermill": {
     "duration": 0.012771,
     "end_time": "2025-04-01T12:06:57.187469",
     "exception": false,
     "start_time": "2025-04-01T12:06:57.174698",
     "status": "completed"
    },
    "tags": []
   },
   "outputs": [],
   "source": [
    "def preprocess_data(df):\n",
    "    # Convert yes/no to 1/0\n",
    "    binary_cols = ['mainroad', 'guestroom', 'basement', 'hotwaterheating', 'airconditioning', 'prefarea']\n",
    "    df[binary_cols] = df[binary_cols].apply(lambda x: x.map({'yes': 1, 'no': 0}))\n",
    "    \n",
    "    # One-hot encode furnishingstatus\n",
    "    df = pd.get_dummies(df, columns=['furnishingstatus'], drop_first=True)\n",
    "    \n",
    "    return df\n",
    "    "
   ]
  },
  {
   "cell_type": "code",
   "execution_count": 5,
   "id": "766f44c1",
   "metadata": {
    "execution": {
     "iopub.execute_input": "2025-04-01T12:06:57.195892Z",
     "iopub.status.busy": "2025-04-01T12:06:57.195524Z",
     "iopub.status.idle": "2025-04-01T12:06:57.231831Z",
     "shell.execute_reply": "2025-04-01T12:06:57.230370Z"
    },
    "papermill": {
     "duration": 0.042691,
     "end_time": "2025-04-01T12:06:57.233774",
     "exception": false,
     "start_time": "2025-04-01T12:06:57.191083",
     "status": "completed"
    },
    "tags": []
   },
   "outputs": [],
   "source": [
    "processed_data = preprocess_data(data.copy())  # Add this line before your split\n",
    "\n",
    "# Now this will work\n",
    "X = processed_data.drop('price', axis=1)\n",
    "y = processed_data['price']"
   ]
  },
  {
   "cell_type": "code",
   "execution_count": 6,
   "id": "398ceb60",
   "metadata": {
    "execution": {
     "iopub.execute_input": "2025-04-01T12:06:57.242061Z",
     "iopub.status.busy": "2025-04-01T12:06:57.241645Z",
     "iopub.status.idle": "2025-04-01T12:06:57.249466Z",
     "shell.execute_reply": "2025-04-01T12:06:57.248238Z"
    },
    "papermill": {
     "duration": 0.014222,
     "end_time": "2025-04-01T12:06:57.251503",
     "exception": false,
     "start_time": "2025-04-01T12:06:57.237281",
     "status": "completed"
    },
    "tags": []
   },
   "outputs": [],
   "source": [
    "X_train, X_test, y_train, y_test = train_test_split(X, y, test_size=0.2, random_state=42)"
   ]
  },
  {
   "cell_type": "code",
   "execution_count": 7,
   "id": "0eda98af",
   "metadata": {
    "execution": {
     "iopub.execute_input": "2025-04-01T12:06:57.259985Z",
     "iopub.status.busy": "2025-04-01T12:06:57.259644Z",
     "iopub.status.idle": "2025-04-01T12:06:57.326998Z",
     "shell.execute_reply": "2025-04-01T12:06:57.325995Z"
    },
    "papermill": {
     "duration": 0.073588,
     "end_time": "2025-04-01T12:06:57.328890",
     "exception": false,
     "start_time": "2025-04-01T12:06:57.255302",
     "status": "completed"
    },
    "tags": []
   },
   "outputs": [],
   "source": [
    "def train_models():\n",
    "    # Linear Regression\n",
    "    lr = LinearRegression()\n",
    "    lr.fit(X_train, y_train)\n",
    "    \n",
    "    # Decision Tree\n",
    "    dt = DecisionTreeRegressor(random_state=42)\n",
    "    dt.fit(X_train, y_train)\n",
    "    \n",
    "    return lr, dt\n",
    "\n",
    "lr_model, dt_model = train_models()"
   ]
  },
  {
   "cell_type": "code",
   "execution_count": 8,
   "id": "f2ce7838",
   "metadata": {
    "execution": {
     "iopub.execute_input": "2025-04-01T12:06:57.336981Z",
     "iopub.status.busy": "2025-04-01T12:06:57.336628Z",
     "iopub.status.idle": "2025-04-01T12:06:57.349989Z",
     "shell.execute_reply": "2025-04-01T12:06:57.348937Z"
    },
    "papermill": {
     "duration": 0.019229,
     "end_time": "2025-04-01T12:06:57.351613",
     "exception": false,
     "start_time": "2025-04-01T12:06:57.332384",
     "status": "completed"
    },
    "tags": []
   },
   "outputs": [],
   "source": [
    "def evaluate_model(model, X_test, y_test):\n",
    "    y_pred = model.predict(X_test)\n",
    "    mse = mean_squared_error(y_test, y_pred)\n",
    "    rmse = np.sqrt(mse)\n",
    "    r2 = r2_score(y_test, y_pred)\n",
    "    return rmse, r2\n",
    "\n",
    "lr_rmse, lr_r2 = evaluate_model(lr_model, X_test, y_test)\n",
    "dt_rmse, dt_r2 = evaluate_model(dt_model, X_test, y_test)"
   ]
  },
  {
   "cell_type": "code",
   "execution_count": 9,
   "id": "0353b5ff",
   "metadata": {
    "execution": {
     "iopub.execute_input": "2025-04-01T12:06:57.359946Z",
     "iopub.status.busy": "2025-04-01T12:06:57.359573Z",
     "iopub.status.idle": "2025-04-01T12:06:57.368300Z",
     "shell.execute_reply": "2025-04-01T12:06:57.367055Z"
    },
    "papermill": {
     "duration": 0.01485,
     "end_time": "2025-04-01T12:06:57.369972",
     "exception": false,
     "start_time": "2025-04-01T12:06:57.355122",
     "status": "completed"
    },
    "tags": []
   },
   "outputs": [
    {
     "name": "stdout",
     "output_type": "stream",
     "text": [
      "🏠 House Price Prediction\n"
     ]
    }
   ],
   "source": [
    "print(\"🏠 House Price Prediction\")\n",
    "model_choice = widgets.Dropdown(\n",
    "    options=['Linear Regression', 'Decision Tree'],\n",
    "    value='Linear Regression',\n",
    "    description='Model:'\n",
    ")"
   ]
  },
  {
   "cell_type": "code",
   "execution_count": 10,
   "id": "b4962c93",
   "metadata": {
    "execution": {
     "iopub.execute_input": "2025-04-01T12:06:57.378022Z",
     "iopub.status.busy": "2025-04-01T12:06:57.377637Z",
     "iopub.status.idle": "2025-04-01T12:06:57.415044Z",
     "shell.execute_reply": "2025-04-01T12:06:57.413853Z"
    },
    "papermill": {
     "duration": 0.053385,
     "end_time": "2025-04-01T12:06:57.426859",
     "exception": false,
     "start_time": "2025-04-01T12:06:57.373474",
     "status": "completed"
    },
    "tags": []
   },
   "outputs": [],
   "source": [
    "area = widgets.IntSlider(min=1000, max=20000, value=5000, description='Area (sq ft):')\n",
    "bedrooms = widgets.IntSlider(min=1, max=6, value=3, description='Bedrooms:')\n",
    "bathrooms = widgets.IntSlider(min=1, max=4, value=2, description='Bathrooms:')\n",
    "stories = widgets.IntSlider(min=1, max=4, value=2, description='Stories:')\n",
    "mainroad = widgets.RadioButtons(options=['Yes', 'No'], description='Main Road:')\n",
    "guestroom = widgets.RadioButtons(options=['Yes', 'No'], description='Guest Room:')\n",
    "basement = widgets.RadioButtons(options=['Yes', 'No'], description='Basement:')\n",
    "hotwaterheating = widgets.RadioButtons(options=['Yes', 'No'], description='Hot Water:')\n",
    "airconditioning = widgets.RadioButtons(options=['Yes', 'No'], description='AC:')\n",
    "parking = widgets.IntSlider(min=0, max=3, value=1, description='Parking:')\n",
    "prefarea = widgets.RadioButtons(options=['Yes', 'No'], description='Pref Area:')\n",
    "furnishingstatus = widgets.Dropdown(\n",
    "    options=['Semi-Furnished', 'Unfurnished', 'Furnished'],\n",
    "    value='Semi-Furnished',\n",
    "    description='Furnishing:'\n",
    ")"
   ]
  },
  {
   "cell_type": "code",
   "execution_count": 11,
   "id": "a955947e",
   "metadata": {
    "execution": {
     "iopub.execute_input": "2025-04-01T12:06:57.437478Z",
     "iopub.status.busy": "2025-04-01T12:06:57.436898Z",
     "iopub.status.idle": "2025-04-01T12:06:57.468853Z",
     "shell.execute_reply": "2025-04-01T12:06:57.467807Z"
    },
    "papermill": {
     "duration": 0.038635,
     "end_time": "2025-04-01T12:06:57.470707",
     "exception": false,
     "start_time": "2025-04-01T12:06:57.432072",
     "status": "completed"
    },
    "tags": []
   },
   "outputs": [
    {
     "data": {
      "application/vnd.jupyter.widget-view+json": {
       "model_id": "d6ca1f23220c4dce923b8ca24cb04387",
       "version_major": 2,
       "version_minor": 0
      },
      "text/plain": [
       "Dropdown(description='Model:', options=('Linear Regression', 'Decision Tree'), value='Linear Regression')"
      ]
     },
     "metadata": {},
     "output_type": "display_data"
    },
    {
     "data": {
      "application/vnd.jupyter.widget-view+json": {
       "model_id": "168224a0aeb0463eb6b3f54940f1a4c8",
       "version_major": 2,
       "version_minor": 0
      },
      "text/plain": [
       "IntSlider(value=5000, description='Area (sq ft):', max=20000, min=1000)"
      ]
     },
     "metadata": {},
     "output_type": "display_data"
    },
    {
     "data": {
      "application/vnd.jupyter.widget-view+json": {
       "model_id": "033d17fa4ebe430e80e23bf4dd55a7d4",
       "version_major": 2,
       "version_minor": 0
      },
      "text/plain": [
       "IntSlider(value=3, description='Bedrooms:', max=6, min=1)"
      ]
     },
     "metadata": {},
     "output_type": "display_data"
    },
    {
     "data": {
      "application/vnd.jupyter.widget-view+json": {
       "model_id": "3b2d137a3fa94f79a3917432d0cc5180",
       "version_major": 2,
       "version_minor": 0
      },
      "text/plain": [
       "IntSlider(value=2, description='Bathrooms:', max=4, min=1)"
      ]
     },
     "metadata": {},
     "output_type": "display_data"
    },
    {
     "data": {
      "application/vnd.jupyter.widget-view+json": {
       "model_id": "a1adbf1e12dd4ef785fd931edff0fec5",
       "version_major": 2,
       "version_minor": 0
      },
      "text/plain": [
       "IntSlider(value=2, description='Stories:', max=4, min=1)"
      ]
     },
     "metadata": {},
     "output_type": "display_data"
    },
    {
     "data": {
      "application/vnd.jupyter.widget-view+json": {
       "model_id": "065bb442b3364ccd97539cc60c77d2db",
       "version_major": 2,
       "version_minor": 0
      },
      "text/plain": [
       "RadioButtons(description='Main Road:', options=('Yes', 'No'), value='Yes')"
      ]
     },
     "metadata": {},
     "output_type": "display_data"
    },
    {
     "data": {
      "application/vnd.jupyter.widget-view+json": {
       "model_id": "2b38c6fc37b34d28a33fd49c5833fc89",
       "version_major": 2,
       "version_minor": 0
      },
      "text/plain": [
       "RadioButtons(description='Guest Room:', options=('Yes', 'No'), value='Yes')"
      ]
     },
     "metadata": {},
     "output_type": "display_data"
    },
    {
     "data": {
      "application/vnd.jupyter.widget-view+json": {
       "model_id": "4bb9fe86994049859c1ab61b9f4d23b4",
       "version_major": 2,
       "version_minor": 0
      },
      "text/plain": [
       "RadioButtons(description='Basement:', options=('Yes', 'No'), value='Yes')"
      ]
     },
     "metadata": {},
     "output_type": "display_data"
    },
    {
     "data": {
      "application/vnd.jupyter.widget-view+json": {
       "model_id": "6a5ba43729b14f4fafb604bc9473aa5f",
       "version_major": 2,
       "version_minor": 0
      },
      "text/plain": [
       "RadioButtons(description='Hot Water:', options=('Yes', 'No'), value='Yes')"
      ]
     },
     "metadata": {},
     "output_type": "display_data"
    },
    {
     "data": {
      "application/vnd.jupyter.widget-view+json": {
       "model_id": "8cdecdcf6e5b471baa73cefd6bbd968a",
       "version_major": 2,
       "version_minor": 0
      },
      "text/plain": [
       "RadioButtons(description='AC:', options=('Yes', 'No'), value='Yes')"
      ]
     },
     "metadata": {},
     "output_type": "display_data"
    },
    {
     "data": {
      "application/vnd.jupyter.widget-view+json": {
       "model_id": "a84412e349904910905bac0d85bdbfd4",
       "version_major": 2,
       "version_minor": 0
      },
      "text/plain": [
       "IntSlider(value=1, description='Parking:', max=3)"
      ]
     },
     "metadata": {},
     "output_type": "display_data"
    },
    {
     "data": {
      "application/vnd.jupyter.widget-view+json": {
       "model_id": "2acbcc2e478f40d1a632f8b8681b77fc",
       "version_major": 2,
       "version_minor": 0
      },
      "text/plain": [
       "RadioButtons(description='Pref Area:', options=('Yes', 'No'), value='Yes')"
      ]
     },
     "metadata": {},
     "output_type": "display_data"
    },
    {
     "data": {
      "application/vnd.jupyter.widget-view+json": {
       "model_id": "6cd219a269b244dab2f1ccfa06b60d8d",
       "version_major": 2,
       "version_minor": 0
      },
      "text/plain": [
       "Dropdown(description='Furnishing:', options=('Semi-Furnished', 'Unfurnished', 'Furnished'), value='Semi-Furnis…"
      ]
     },
     "metadata": {},
     "output_type": "display_data"
    }
   ],
   "source": [
    "display(model_choice)\n",
    "display(area)\n",
    "display(bedrooms)\n",
    "display(bathrooms)\n",
    "display(stories)\n",
    "display(mainroad)\n",
    "display(guestroom)\n",
    "display(basement)\n",
    "display(hotwaterheating)\n",
    "display(airconditioning)\n",
    "display(parking)\n",
    "display(prefarea)\n",
    "display(furnishingstatus)"
   ]
  }
 ],
 "metadata": {
  "kaggle": {
   "accelerator": "none",
   "dataSources": [
    {
     "datasetId": 7021725,
     "sourceId": 11239243,
     "sourceType": "datasetVersion"
    }
   ],
   "dockerImageVersionId": 30918,
   "isGpuEnabled": false,
   "isInternetEnabled": false,
   "language": "python",
   "sourceType": "notebook"
  },
  "kernelspec": {
   "display_name": "Python 3",
   "language": "python",
   "name": "python3"
  },
  "language_info": {
   "codemirror_mode": {
    "name": "ipython",
    "version": 3
   },
   "file_extension": ".py",
   "mimetype": "text/x-python",
   "name": "python",
   "nbconvert_exporter": "python",
   "pygments_lexer": "ipython3",
   "version": "3.10.12"
  },
  "papermill": {
   "default_parameters": {},
   "duration": 7.615779,
   "end_time": "2025-04-01T12:06:58.299237",
   "environment_variables": {},
   "exception": null,
   "input_path": "__notebook__.ipynb",
   "output_path": "__notebook__.ipynb",
   "parameters": {},
   "start_time": "2025-04-01T12:06:50.683458",
   "version": "2.6.0"
  },
  "widgets": {
   "application/vnd.jupyter.widget-state+json": {
    "state": {
     "00365173c2114f4a93b8085ef3f49d22": {
      "model_module": "@jupyter-widgets/controls",
      "model_module_version": "2.0.0",
      "model_name": "SliderStyleModel",
      "state": {
       "_model_module": "@jupyter-widgets/controls",
       "_model_module_version": "2.0.0",
       "_model_name": "SliderStyleModel",
       "_view_count": null,
       "_view_module": "@jupyter-widgets/base",
       "_view_module_version": "2.0.0",
       "_view_name": "StyleView",
       "description_width": "",
       "handle_color": null
      }
     },
     "033d17fa4ebe430e80e23bf4dd55a7d4": {
      "model_module": "@jupyter-widgets/controls",
      "model_module_version": "2.0.0",
      "model_name": "IntSliderModel",
      "state": {
       "_dom_classes": [],
       "_model_module": "@jupyter-widgets/controls",
       "_model_module_version": "2.0.0",
       "_model_name": "IntSliderModel",
       "_view_count": null,
       "_view_module": "@jupyter-widgets/controls",
       "_view_module_version": "2.0.0",
       "_view_name": "IntSliderView",
       "behavior": "drag-tap",
       "continuous_update": true,
       "description": "Bedrooms:",
       "description_allow_html": false,
       "disabled": false,
       "layout": "IPY_MODEL_d2eb882520b74b8ea79851e1bbb1f91c",
       "max": 6,
       "min": 1,
       "orientation": "horizontal",
       "readout": true,
       "readout_format": "d",
       "step": 1,
       "style": "IPY_MODEL_22a2d2c43ed84682b7922e45cae7d55f",
       "tabbable": null,
       "tooltip": null,
       "value": 3
      }
     },
     "065bb442b3364ccd97539cc60c77d2db": {
      "model_module": "@jupyter-widgets/controls",
      "model_module_version": "2.0.0",
      "model_name": "RadioButtonsModel",
      "state": {
       "_dom_classes": [],
       "_model_module": "@jupyter-widgets/controls",
       "_model_module_version": "2.0.0",
       "_model_name": "RadioButtonsModel",
       "_options_labels": [
        "Yes",
        "No"
       ],
       "_view_count": null,
       "_view_module": "@jupyter-widgets/controls",
       "_view_module_version": "2.0.0",
       "_view_name": "RadioButtonsView",
       "description": "Main Road:",
       "description_allow_html": false,
       "disabled": false,
       "index": 0,
       "layout": "IPY_MODEL_0c3a4e2d30b648488746067392c09abb",
       "orientation": "vertical",
       "style": "IPY_MODEL_5a29fd6165f84f8ab1060b917e8b6dd2",
       "tabbable": null,
       "tooltip": null
      }
     },
     "0c3a4e2d30b648488746067392c09abb": {
      "model_module": "@jupyter-widgets/base",
      "model_module_version": "2.0.0",
      "model_name": "LayoutModel",
      "state": {
       "_model_module": "@jupyter-widgets/base",
       "_model_module_version": "2.0.0",
       "_model_name": "LayoutModel",
       "_view_count": null,
       "_view_module": "@jupyter-widgets/base",
       "_view_module_version": "2.0.0",
       "_view_name": "LayoutView",
       "align_content": null,
       "align_items": null,
       "align_self": null,
       "border_bottom": null,
       "border_left": null,
       "border_right": null,
       "border_top": null,
       "bottom": null,
       "display": null,
       "flex": null,
       "flex_flow": null,
       "grid_area": null,
       "grid_auto_columns": null,
       "grid_auto_flow": null,
       "grid_auto_rows": null,
       "grid_column": null,
       "grid_gap": null,
       "grid_row": null,
       "grid_template_areas": null,
       "grid_template_columns": null,
       "grid_template_rows": null,
       "height": null,
       "justify_content": null,
       "justify_items": null,
       "left": null,
       "margin": null,
       "max_height": null,
       "max_width": null,
       "min_height": null,
       "min_width": null,
       "object_fit": null,
       "object_position": null,
       "order": null,
       "overflow": null,
       "padding": null,
       "right": null,
       "top": null,
       "visibility": null,
       "width": null
      }
     },
     "168224a0aeb0463eb6b3f54940f1a4c8": {
      "model_module": "@jupyter-widgets/controls",
      "model_module_version": "2.0.0",
      "model_name": "IntSliderModel",
      "state": {
       "_dom_classes": [],
       "_model_module": "@jupyter-widgets/controls",
       "_model_module_version": "2.0.0",
       "_model_name": "IntSliderModel",
       "_view_count": null,
       "_view_module": "@jupyter-widgets/controls",
       "_view_module_version": "2.0.0",
       "_view_name": "IntSliderView",
       "behavior": "drag-tap",
       "continuous_update": true,
       "description": "Area (sq ft):",
       "description_allow_html": false,
       "disabled": false,
       "layout": "IPY_MODEL_a6007b1b4d104235bad33d282ab7d1b6",
       "max": 20000,
       "min": 1000,
       "orientation": "horizontal",
       "readout": true,
       "readout_format": "d",
       "step": 1,
       "style": "IPY_MODEL_61f1b310d9434615b2981bf199b0edfb",
       "tabbable": null,
       "tooltip": null,
       "value": 5000
      }
     },
     "1e060bb03d2b4b8886b5406c687725f1": {
      "model_module": "@jupyter-widgets/base",
      "model_module_version": "2.0.0",
      "model_name": "LayoutModel",
      "state": {
       "_model_module": "@jupyter-widgets/base",
       "_model_module_version": "2.0.0",
       "_model_name": "LayoutModel",
       "_view_count": null,
       "_view_module": "@jupyter-widgets/base",
       "_view_module_version": "2.0.0",
       "_view_name": "LayoutView",
       "align_content": null,
       "align_items": null,
       "align_self": null,
       "border_bottom": null,
       "border_left": null,
       "border_right": null,
       "border_top": null,
       "bottom": null,
       "display": null,
       "flex": null,
       "flex_flow": null,
       "grid_area": null,
       "grid_auto_columns": null,
       "grid_auto_flow": null,
       "grid_auto_rows": null,
       "grid_column": null,
       "grid_gap": null,
       "grid_row": null,
       "grid_template_areas": null,
       "grid_template_columns": null,
       "grid_template_rows": null,
       "height": null,
       "justify_content": null,
       "justify_items": null,
       "left": null,
       "margin": null,
       "max_height": null,
       "max_width": null,
       "min_height": null,
       "min_width": null,
       "object_fit": null,
       "object_position": null,
       "order": null,
       "overflow": null,
       "padding": null,
       "right": null,
       "top": null,
       "visibility": null,
       "width": null
      }
     },
     "22a2d2c43ed84682b7922e45cae7d55f": {
      "model_module": "@jupyter-widgets/controls",
      "model_module_version": "2.0.0",
      "model_name": "SliderStyleModel",
      "state": {
       "_model_module": "@jupyter-widgets/controls",
       "_model_module_version": "2.0.0",
       "_model_name": "SliderStyleModel",
       "_view_count": null,
       "_view_module": "@jupyter-widgets/base",
       "_view_module_version": "2.0.0",
       "_view_name": "StyleView",
       "description_width": "",
       "handle_color": null
      }
     },
     "2acbcc2e478f40d1a632f8b8681b77fc": {
      "model_module": "@jupyter-widgets/controls",
      "model_module_version": "2.0.0",
      "model_name": "RadioButtonsModel",
      "state": {
       "_dom_classes": [],
       "_model_module": "@jupyter-widgets/controls",
       "_model_module_version": "2.0.0",
       "_model_name": "RadioButtonsModel",
       "_options_labels": [
        "Yes",
        "No"
       ],
       "_view_count": null,
       "_view_module": "@jupyter-widgets/controls",
       "_view_module_version": "2.0.0",
       "_view_name": "RadioButtonsView",
       "description": "Pref Area:",
       "description_allow_html": false,
       "disabled": false,
       "index": 0,
       "layout": "IPY_MODEL_eb763a0572964713a93ba1eb21fc8ced",
       "orientation": "vertical",
       "style": "IPY_MODEL_5d3b942ca6da4b3c95200881e14d5a05",
       "tabbable": null,
       "tooltip": null
      }
     },
     "2b38c6fc37b34d28a33fd49c5833fc89": {
      "model_module": "@jupyter-widgets/controls",
      "model_module_version": "2.0.0",
      "model_name": "RadioButtonsModel",
      "state": {
       "_dom_classes": [],
       "_model_module": "@jupyter-widgets/controls",
       "_model_module_version": "2.0.0",
       "_model_name": "RadioButtonsModel",
       "_options_labels": [
        "Yes",
        "No"
       ],
       "_view_count": null,
       "_view_module": "@jupyter-widgets/controls",
       "_view_module_version": "2.0.0",
       "_view_name": "RadioButtonsView",
       "description": "Guest Room:",
       "description_allow_html": false,
       "disabled": false,
       "index": 0,
       "layout": "IPY_MODEL_5895d3d61d9f4d5e9398ac44ba073c82",
       "orientation": "vertical",
       "style": "IPY_MODEL_fb9fe7c32a4b4b7e8753a5de50f292c6",
       "tabbable": null,
       "tooltip": null
      }
     },
     "3b2d137a3fa94f79a3917432d0cc5180": {
      "model_module": "@jupyter-widgets/controls",
      "model_module_version": "2.0.0",
      "model_name": "IntSliderModel",
      "state": {
       "_dom_classes": [],
       "_model_module": "@jupyter-widgets/controls",
       "_model_module_version": "2.0.0",
       "_model_name": "IntSliderModel",
       "_view_count": null,
       "_view_module": "@jupyter-widgets/controls",
       "_view_module_version": "2.0.0",
       "_view_name": "IntSliderView",
       "behavior": "drag-tap",
       "continuous_update": true,
       "description": "Bathrooms:",
       "description_allow_html": false,
       "disabled": false,
       "layout": "IPY_MODEL_408a63650c45431695b3e689806a940d",
       "max": 4,
       "min": 1,
       "orientation": "horizontal",
       "readout": true,
       "readout_format": "d",
       "step": 1,
       "style": "IPY_MODEL_6f7ba7a57fe346749028e7448856c0be",
       "tabbable": null,
       "tooltip": null,
       "value": 2
      }
     },
     "408a63650c45431695b3e689806a940d": {
      "model_module": "@jupyter-widgets/base",
      "model_module_version": "2.0.0",
      "model_name": "LayoutModel",
      "state": {
       "_model_module": "@jupyter-widgets/base",
       "_model_module_version": "2.0.0",
       "_model_name": "LayoutModel",
       "_view_count": null,
       "_view_module": "@jupyter-widgets/base",
       "_view_module_version": "2.0.0",
       "_view_name": "LayoutView",
       "align_content": null,
       "align_items": null,
       "align_self": null,
       "border_bottom": null,
       "border_left": null,
       "border_right": null,
       "border_top": null,
       "bottom": null,
       "display": null,
       "flex": null,
       "flex_flow": null,
       "grid_area": null,
       "grid_auto_columns": null,
       "grid_auto_flow": null,
       "grid_auto_rows": null,
       "grid_column": null,
       "grid_gap": null,
       "grid_row": null,
       "grid_template_areas": null,
       "grid_template_columns": null,
       "grid_template_rows": null,
       "height": null,
       "justify_content": null,
       "justify_items": null,
       "left": null,
       "margin": null,
       "max_height": null,
       "max_width": null,
       "min_height": null,
       "min_width": null,
       "object_fit": null,
       "object_position": null,
       "order": null,
       "overflow": null,
       "padding": null,
       "right": null,
       "top": null,
       "visibility": null,
       "width": null
      }
     },
     "42ca017534544008a76acbcae6665e44": {
      "model_module": "@jupyter-widgets/controls",
      "model_module_version": "2.0.0",
      "model_name": "DescriptionStyleModel",
      "state": {
       "_model_module": "@jupyter-widgets/controls",
       "_model_module_version": "2.0.0",
       "_model_name": "DescriptionStyleModel",
       "_view_count": null,
       "_view_module": "@jupyter-widgets/base",
       "_view_module_version": "2.0.0",
       "_view_name": "StyleView",
       "description_width": ""
      }
     },
     "4bb9fe86994049859c1ab61b9f4d23b4": {
      "model_module": "@jupyter-widgets/controls",
      "model_module_version": "2.0.0",
      "model_name": "RadioButtonsModel",
      "state": {
       "_dom_classes": [],
       "_model_module": "@jupyter-widgets/controls",
       "_model_module_version": "2.0.0",
       "_model_name": "RadioButtonsModel",
       "_options_labels": [
        "Yes",
        "No"
       ],
       "_view_count": null,
       "_view_module": "@jupyter-widgets/controls",
       "_view_module_version": "2.0.0",
       "_view_name": "RadioButtonsView",
       "description": "Basement:",
       "description_allow_html": false,
       "disabled": false,
       "index": 0,
       "layout": "IPY_MODEL_a883766531474d1aad1580bd0742b741",
       "orientation": "vertical",
       "style": "IPY_MODEL_9747a2afb1f54e248d8d2b2a33177951",
       "tabbable": null,
       "tooltip": null
      }
     },
     "5895d3d61d9f4d5e9398ac44ba073c82": {
      "model_module": "@jupyter-widgets/base",
      "model_module_version": "2.0.0",
      "model_name": "LayoutModel",
      "state": {
       "_model_module": "@jupyter-widgets/base",
       "_model_module_version": "2.0.0",
       "_model_name": "LayoutModel",
       "_view_count": null,
       "_view_module": "@jupyter-widgets/base",
       "_view_module_version": "2.0.0",
       "_view_name": "LayoutView",
       "align_content": null,
       "align_items": null,
       "align_self": null,
       "border_bottom": null,
       "border_left": null,
       "border_right": null,
       "border_top": null,
       "bottom": null,
       "display": null,
       "flex": null,
       "flex_flow": null,
       "grid_area": null,
       "grid_auto_columns": null,
       "grid_auto_flow": null,
       "grid_auto_rows": null,
       "grid_column": null,
       "grid_gap": null,
       "grid_row": null,
       "grid_template_areas": null,
       "grid_template_columns": null,
       "grid_template_rows": null,
       "height": null,
       "justify_content": null,
       "justify_items": null,
       "left": null,
       "margin": null,
       "max_height": null,
       "max_width": null,
       "min_height": null,
       "min_width": null,
       "object_fit": null,
       "object_position": null,
       "order": null,
       "overflow": null,
       "padding": null,
       "right": null,
       "top": null,
       "visibility": null,
       "width": null
      }
     },
     "5a29fd6165f84f8ab1060b917e8b6dd2": {
      "model_module": "@jupyter-widgets/controls",
      "model_module_version": "2.0.0",
      "model_name": "DescriptionStyleModel",
      "state": {
       "_model_module": "@jupyter-widgets/controls",
       "_model_module_version": "2.0.0",
       "_model_name": "DescriptionStyleModel",
       "_view_count": null,
       "_view_module": "@jupyter-widgets/base",
       "_view_module_version": "2.0.0",
       "_view_name": "StyleView",
       "description_width": ""
      }
     },
     "5d3b942ca6da4b3c95200881e14d5a05": {
      "model_module": "@jupyter-widgets/controls",
      "model_module_version": "2.0.0",
      "model_name": "DescriptionStyleModel",
      "state": {
       "_model_module": "@jupyter-widgets/controls",
       "_model_module_version": "2.0.0",
       "_model_name": "DescriptionStyleModel",
       "_view_count": null,
       "_view_module": "@jupyter-widgets/base",
       "_view_module_version": "2.0.0",
       "_view_name": "StyleView",
       "description_width": ""
      }
     },
     "5d9d94fc1ff84158bfce8b807f556bf6": {
      "model_module": "@jupyter-widgets/base",
      "model_module_version": "2.0.0",
      "model_name": "LayoutModel",
      "state": {
       "_model_module": "@jupyter-widgets/base",
       "_model_module_version": "2.0.0",
       "_model_name": "LayoutModel",
       "_view_count": null,
       "_view_module": "@jupyter-widgets/base",
       "_view_module_version": "2.0.0",
       "_view_name": "LayoutView",
       "align_content": null,
       "align_items": null,
       "align_self": null,
       "border_bottom": null,
       "border_left": null,
       "border_right": null,
       "border_top": null,
       "bottom": null,
       "display": null,
       "flex": null,
       "flex_flow": null,
       "grid_area": null,
       "grid_auto_columns": null,
       "grid_auto_flow": null,
       "grid_auto_rows": null,
       "grid_column": null,
       "grid_gap": null,
       "grid_row": null,
       "grid_template_areas": null,
       "grid_template_columns": null,
       "grid_template_rows": null,
       "height": null,
       "justify_content": null,
       "justify_items": null,
       "left": null,
       "margin": null,
       "max_height": null,
       "max_width": null,
       "min_height": null,
       "min_width": null,
       "object_fit": null,
       "object_position": null,
       "order": null,
       "overflow": null,
       "padding": null,
       "right": null,
       "top": null,
       "visibility": null,
       "width": null
      }
     },
     "61f1b310d9434615b2981bf199b0edfb": {
      "model_module": "@jupyter-widgets/controls",
      "model_module_version": "2.0.0",
      "model_name": "SliderStyleModel",
      "state": {
       "_model_module": "@jupyter-widgets/controls",
       "_model_module_version": "2.0.0",
       "_model_name": "SliderStyleModel",
       "_view_count": null,
       "_view_module": "@jupyter-widgets/base",
       "_view_module_version": "2.0.0",
       "_view_name": "StyleView",
       "description_width": "",
       "handle_color": null
      }
     },
     "6a5ba43729b14f4fafb604bc9473aa5f": {
      "model_module": "@jupyter-widgets/controls",
      "model_module_version": "2.0.0",
      "model_name": "RadioButtonsModel",
      "state": {
       "_dom_classes": [],
       "_model_module": "@jupyter-widgets/controls",
       "_model_module_version": "2.0.0",
       "_model_name": "RadioButtonsModel",
       "_options_labels": [
        "Yes",
        "No"
       ],
       "_view_count": null,
       "_view_module": "@jupyter-widgets/controls",
       "_view_module_version": "2.0.0",
       "_view_name": "RadioButtonsView",
       "description": "Hot Water:",
       "description_allow_html": false,
       "disabled": false,
       "index": 0,
       "layout": "IPY_MODEL_ac205fb179374c57a667798407106251",
       "orientation": "vertical",
       "style": "IPY_MODEL_a395edc0ee784c58ab067134f6a138b0",
       "tabbable": null,
       "tooltip": null
      }
     },
     "6cd219a269b244dab2f1ccfa06b60d8d": {
      "model_module": "@jupyter-widgets/controls",
      "model_module_version": "2.0.0",
      "model_name": "DropdownModel",
      "state": {
       "_dom_classes": [],
       "_model_module": "@jupyter-widgets/controls",
       "_model_module_version": "2.0.0",
       "_model_name": "DropdownModel",
       "_options_labels": [
        "Semi-Furnished",
        "Unfurnished",
        "Furnished"
       ],
       "_view_count": null,
       "_view_module": "@jupyter-widgets/controls",
       "_view_module_version": "2.0.0",
       "_view_name": "DropdownView",
       "description": "Furnishing:",
       "description_allow_html": false,
       "disabled": false,
       "index": 0,
       "layout": "IPY_MODEL_b22e08a0d76a4b7cac793b70ca294093",
       "style": "IPY_MODEL_42ca017534544008a76acbcae6665e44",
       "tabbable": null,
       "tooltip": null
      }
     },
     "6f7ba7a57fe346749028e7448856c0be": {
      "model_module": "@jupyter-widgets/controls",
      "model_module_version": "2.0.0",
      "model_name": "SliderStyleModel",
      "state": {
       "_model_module": "@jupyter-widgets/controls",
       "_model_module_version": "2.0.0",
       "_model_name": "SliderStyleModel",
       "_view_count": null,
       "_view_module": "@jupyter-widgets/base",
       "_view_module_version": "2.0.0",
       "_view_name": "StyleView",
       "description_width": "",
       "handle_color": null
      }
     },
     "8cdecdcf6e5b471baa73cefd6bbd968a": {
      "model_module": "@jupyter-widgets/controls",
      "model_module_version": "2.0.0",
      "model_name": "RadioButtonsModel",
      "state": {
       "_dom_classes": [],
       "_model_module": "@jupyter-widgets/controls",
       "_model_module_version": "2.0.0",
       "_model_name": "RadioButtonsModel",
       "_options_labels": [
        "Yes",
        "No"
       ],
       "_view_count": null,
       "_view_module": "@jupyter-widgets/controls",
       "_view_module_version": "2.0.0",
       "_view_name": "RadioButtonsView",
       "description": "AC:",
       "description_allow_html": false,
       "disabled": false,
       "index": 0,
       "layout": "IPY_MODEL_a21795ef0fa442968ca62e2df7e30b8b",
       "orientation": "vertical",
       "style": "IPY_MODEL_b992bab739e74cd2848d6f36b52690d6",
       "tabbable": null,
       "tooltip": null
      }
     },
     "8f82afb6abf5465fa19627f73085542b": {
      "model_module": "@jupyter-widgets/controls",
      "model_module_version": "2.0.0",
      "model_name": "DescriptionStyleModel",
      "state": {
       "_model_module": "@jupyter-widgets/controls",
       "_model_module_version": "2.0.0",
       "_model_name": "DescriptionStyleModel",
       "_view_count": null,
       "_view_module": "@jupyter-widgets/base",
       "_view_module_version": "2.0.0",
       "_view_name": "StyleView",
       "description_width": ""
      }
     },
     "9747a2afb1f54e248d8d2b2a33177951": {
      "model_module": "@jupyter-widgets/controls",
      "model_module_version": "2.0.0",
      "model_name": "DescriptionStyleModel",
      "state": {
       "_model_module": "@jupyter-widgets/controls",
       "_model_module_version": "2.0.0",
       "_model_name": "DescriptionStyleModel",
       "_view_count": null,
       "_view_module": "@jupyter-widgets/base",
       "_view_module_version": "2.0.0",
       "_view_name": "StyleView",
       "description_width": ""
      }
     },
     "a1adbf1e12dd4ef785fd931edff0fec5": {
      "model_module": "@jupyter-widgets/controls",
      "model_module_version": "2.0.0",
      "model_name": "IntSliderModel",
      "state": {
       "_dom_classes": [],
       "_model_module": "@jupyter-widgets/controls",
       "_model_module_version": "2.0.0",
       "_model_name": "IntSliderModel",
       "_view_count": null,
       "_view_module": "@jupyter-widgets/controls",
       "_view_module_version": "2.0.0",
       "_view_name": "IntSliderView",
       "behavior": "drag-tap",
       "continuous_update": true,
       "description": "Stories:",
       "description_allow_html": false,
       "disabled": false,
       "layout": "IPY_MODEL_a311206c5079449aafd0893d9ce06e59",
       "max": 4,
       "min": 1,
       "orientation": "horizontal",
       "readout": true,
       "readout_format": "d",
       "step": 1,
       "style": "IPY_MODEL_d1a167fbcc2d4d2a940cfcbc1b448ecd",
       "tabbable": null,
       "tooltip": null,
       "value": 2
      }
     },
     "a21795ef0fa442968ca62e2df7e30b8b": {
      "model_module": "@jupyter-widgets/base",
      "model_module_version": "2.0.0",
      "model_name": "LayoutModel",
      "state": {
       "_model_module": "@jupyter-widgets/base",
       "_model_module_version": "2.0.0",
       "_model_name": "LayoutModel",
       "_view_count": null,
       "_view_module": "@jupyter-widgets/base",
       "_view_module_version": "2.0.0",
       "_view_name": "LayoutView",
       "align_content": null,
       "align_items": null,
       "align_self": null,
       "border_bottom": null,
       "border_left": null,
       "border_right": null,
       "border_top": null,
       "bottom": null,
       "display": null,
       "flex": null,
       "flex_flow": null,
       "grid_area": null,
       "grid_auto_columns": null,
       "grid_auto_flow": null,
       "grid_auto_rows": null,
       "grid_column": null,
       "grid_gap": null,
       "grid_row": null,
       "grid_template_areas": null,
       "grid_template_columns": null,
       "grid_template_rows": null,
       "height": null,
       "justify_content": null,
       "justify_items": null,
       "left": null,
       "margin": null,
       "max_height": null,
       "max_width": null,
       "min_height": null,
       "min_width": null,
       "object_fit": null,
       "object_position": null,
       "order": null,
       "overflow": null,
       "padding": null,
       "right": null,
       "top": null,
       "visibility": null,
       "width": null
      }
     },
     "a311206c5079449aafd0893d9ce06e59": {
      "model_module": "@jupyter-widgets/base",
      "model_module_version": "2.0.0",
      "model_name": "LayoutModel",
      "state": {
       "_model_module": "@jupyter-widgets/base",
       "_model_module_version": "2.0.0",
       "_model_name": "LayoutModel",
       "_view_count": null,
       "_view_module": "@jupyter-widgets/base",
       "_view_module_version": "2.0.0",
       "_view_name": "LayoutView",
       "align_content": null,
       "align_items": null,
       "align_self": null,
       "border_bottom": null,
       "border_left": null,
       "border_right": null,
       "border_top": null,
       "bottom": null,
       "display": null,
       "flex": null,
       "flex_flow": null,
       "grid_area": null,
       "grid_auto_columns": null,
       "grid_auto_flow": null,
       "grid_auto_rows": null,
       "grid_column": null,
       "grid_gap": null,
       "grid_row": null,
       "grid_template_areas": null,
       "grid_template_columns": null,
       "grid_template_rows": null,
       "height": null,
       "justify_content": null,
       "justify_items": null,
       "left": null,
       "margin": null,
       "max_height": null,
       "max_width": null,
       "min_height": null,
       "min_width": null,
       "object_fit": null,
       "object_position": null,
       "order": null,
       "overflow": null,
       "padding": null,
       "right": null,
       "top": null,
       "visibility": null,
       "width": null
      }
     },
     "a395edc0ee784c58ab067134f6a138b0": {
      "model_module": "@jupyter-widgets/controls",
      "model_module_version": "2.0.0",
      "model_name": "DescriptionStyleModel",
      "state": {
       "_model_module": "@jupyter-widgets/controls",
       "_model_module_version": "2.0.0",
       "_model_name": "DescriptionStyleModel",
       "_view_count": null,
       "_view_module": "@jupyter-widgets/base",
       "_view_module_version": "2.0.0",
       "_view_name": "StyleView",
       "description_width": ""
      }
     },
     "a6007b1b4d104235bad33d282ab7d1b6": {
      "model_module": "@jupyter-widgets/base",
      "model_module_version": "2.0.0",
      "model_name": "LayoutModel",
      "state": {
       "_model_module": "@jupyter-widgets/base",
       "_model_module_version": "2.0.0",
       "_model_name": "LayoutModel",
       "_view_count": null,
       "_view_module": "@jupyter-widgets/base",
       "_view_module_version": "2.0.0",
       "_view_name": "LayoutView",
       "align_content": null,
       "align_items": null,
       "align_self": null,
       "border_bottom": null,
       "border_left": null,
       "border_right": null,
       "border_top": null,
       "bottom": null,
       "display": null,
       "flex": null,
       "flex_flow": null,
       "grid_area": null,
       "grid_auto_columns": null,
       "grid_auto_flow": null,
       "grid_auto_rows": null,
       "grid_column": null,
       "grid_gap": null,
       "grid_row": null,
       "grid_template_areas": null,
       "grid_template_columns": null,
       "grid_template_rows": null,
       "height": null,
       "justify_content": null,
       "justify_items": null,
       "left": null,
       "margin": null,
       "max_height": null,
       "max_width": null,
       "min_height": null,
       "min_width": null,
       "object_fit": null,
       "object_position": null,
       "order": null,
       "overflow": null,
       "padding": null,
       "right": null,
       "top": null,
       "visibility": null,
       "width": null
      }
     },
     "a84412e349904910905bac0d85bdbfd4": {
      "model_module": "@jupyter-widgets/controls",
      "model_module_version": "2.0.0",
      "model_name": "IntSliderModel",
      "state": {
       "_dom_classes": [],
       "_model_module": "@jupyter-widgets/controls",
       "_model_module_version": "2.0.0",
       "_model_name": "IntSliderModel",
       "_view_count": null,
       "_view_module": "@jupyter-widgets/controls",
       "_view_module_version": "2.0.0",
       "_view_name": "IntSliderView",
       "behavior": "drag-tap",
       "continuous_update": true,
       "description": "Parking:",
       "description_allow_html": false,
       "disabled": false,
       "layout": "IPY_MODEL_5d9d94fc1ff84158bfce8b807f556bf6",
       "max": 3,
       "min": 0,
       "orientation": "horizontal",
       "readout": true,
       "readout_format": "d",
       "step": 1,
       "style": "IPY_MODEL_00365173c2114f4a93b8085ef3f49d22",
       "tabbable": null,
       "tooltip": null,
       "value": 1
      }
     },
     "a883766531474d1aad1580bd0742b741": {
      "model_module": "@jupyter-widgets/base",
      "model_module_version": "2.0.0",
      "model_name": "LayoutModel",
      "state": {
       "_model_module": "@jupyter-widgets/base",
       "_model_module_version": "2.0.0",
       "_model_name": "LayoutModel",
       "_view_count": null,
       "_view_module": "@jupyter-widgets/base",
       "_view_module_version": "2.0.0",
       "_view_name": "LayoutView",
       "align_content": null,
       "align_items": null,
       "align_self": null,
       "border_bottom": null,
       "border_left": null,
       "border_right": null,
       "border_top": null,
       "bottom": null,
       "display": null,
       "flex": null,
       "flex_flow": null,
       "grid_area": null,
       "grid_auto_columns": null,
       "grid_auto_flow": null,
       "grid_auto_rows": null,
       "grid_column": null,
       "grid_gap": null,
       "grid_row": null,
       "grid_template_areas": null,
       "grid_template_columns": null,
       "grid_template_rows": null,
       "height": null,
       "justify_content": null,
       "justify_items": null,
       "left": null,
       "margin": null,
       "max_height": null,
       "max_width": null,
       "min_height": null,
       "min_width": null,
       "object_fit": null,
       "object_position": null,
       "order": null,
       "overflow": null,
       "padding": null,
       "right": null,
       "top": null,
       "visibility": null,
       "width": null
      }
     },
     "ac205fb179374c57a667798407106251": {
      "model_module": "@jupyter-widgets/base",
      "model_module_version": "2.0.0",
      "model_name": "LayoutModel",
      "state": {
       "_model_module": "@jupyter-widgets/base",
       "_model_module_version": "2.0.0",
       "_model_name": "LayoutModel",
       "_view_count": null,
       "_view_module": "@jupyter-widgets/base",
       "_view_module_version": "2.0.0",
       "_view_name": "LayoutView",
       "align_content": null,
       "align_items": null,
       "align_self": null,
       "border_bottom": null,
       "border_left": null,
       "border_right": null,
       "border_top": null,
       "bottom": null,
       "display": null,
       "flex": null,
       "flex_flow": null,
       "grid_area": null,
       "grid_auto_columns": null,
       "grid_auto_flow": null,
       "grid_auto_rows": null,
       "grid_column": null,
       "grid_gap": null,
       "grid_row": null,
       "grid_template_areas": null,
       "grid_template_columns": null,
       "grid_template_rows": null,
       "height": null,
       "justify_content": null,
       "justify_items": null,
       "left": null,
       "margin": null,
       "max_height": null,
       "max_width": null,
       "min_height": null,
       "min_width": null,
       "object_fit": null,
       "object_position": null,
       "order": null,
       "overflow": null,
       "padding": null,
       "right": null,
       "top": null,
       "visibility": null,
       "width": null
      }
     },
     "b22e08a0d76a4b7cac793b70ca294093": {
      "model_module": "@jupyter-widgets/base",
      "model_module_version": "2.0.0",
      "model_name": "LayoutModel",
      "state": {
       "_model_module": "@jupyter-widgets/base",
       "_model_module_version": "2.0.0",
       "_model_name": "LayoutModel",
       "_view_count": null,
       "_view_module": "@jupyter-widgets/base",
       "_view_module_version": "2.0.0",
       "_view_name": "LayoutView",
       "align_content": null,
       "align_items": null,
       "align_self": null,
       "border_bottom": null,
       "border_left": null,
       "border_right": null,
       "border_top": null,
       "bottom": null,
       "display": null,
       "flex": null,
       "flex_flow": null,
       "grid_area": null,
       "grid_auto_columns": null,
       "grid_auto_flow": null,
       "grid_auto_rows": null,
       "grid_column": null,
       "grid_gap": null,
       "grid_row": null,
       "grid_template_areas": null,
       "grid_template_columns": null,
       "grid_template_rows": null,
       "height": null,
       "justify_content": null,
       "justify_items": null,
       "left": null,
       "margin": null,
       "max_height": null,
       "max_width": null,
       "min_height": null,
       "min_width": null,
       "object_fit": null,
       "object_position": null,
       "order": null,
       "overflow": null,
       "padding": null,
       "right": null,
       "top": null,
       "visibility": null,
       "width": null
      }
     },
     "b992bab739e74cd2848d6f36b52690d6": {
      "model_module": "@jupyter-widgets/controls",
      "model_module_version": "2.0.0",
      "model_name": "DescriptionStyleModel",
      "state": {
       "_model_module": "@jupyter-widgets/controls",
       "_model_module_version": "2.0.0",
       "_model_name": "DescriptionStyleModel",
       "_view_count": null,
       "_view_module": "@jupyter-widgets/base",
       "_view_module_version": "2.0.0",
       "_view_name": "StyleView",
       "description_width": ""
      }
     },
     "d1a167fbcc2d4d2a940cfcbc1b448ecd": {
      "model_module": "@jupyter-widgets/controls",
      "model_module_version": "2.0.0",
      "model_name": "SliderStyleModel",
      "state": {
       "_model_module": "@jupyter-widgets/controls",
       "_model_module_version": "2.0.0",
       "_model_name": "SliderStyleModel",
       "_view_count": null,
       "_view_module": "@jupyter-widgets/base",
       "_view_module_version": "2.0.0",
       "_view_name": "StyleView",
       "description_width": "",
       "handle_color": null
      }
     },
     "d2eb882520b74b8ea79851e1bbb1f91c": {
      "model_module": "@jupyter-widgets/base",
      "model_module_version": "2.0.0",
      "model_name": "LayoutModel",
      "state": {
       "_model_module": "@jupyter-widgets/base",
       "_model_module_version": "2.0.0",
       "_model_name": "LayoutModel",
       "_view_count": null,
       "_view_module": "@jupyter-widgets/base",
       "_view_module_version": "2.0.0",
       "_view_name": "LayoutView",
       "align_content": null,
       "align_items": null,
       "align_self": null,
       "border_bottom": null,
       "border_left": null,
       "border_right": null,
       "border_top": null,
       "bottom": null,
       "display": null,
       "flex": null,
       "flex_flow": null,
       "grid_area": null,
       "grid_auto_columns": null,
       "grid_auto_flow": null,
       "grid_auto_rows": null,
       "grid_column": null,
       "grid_gap": null,
       "grid_row": null,
       "grid_template_areas": null,
       "grid_template_columns": null,
       "grid_template_rows": null,
       "height": null,
       "justify_content": null,
       "justify_items": null,
       "left": null,
       "margin": null,
       "max_height": null,
       "max_width": null,
       "min_height": null,
       "min_width": null,
       "object_fit": null,
       "object_position": null,
       "order": null,
       "overflow": null,
       "padding": null,
       "right": null,
       "top": null,
       "visibility": null,
       "width": null
      }
     },
     "d6ca1f23220c4dce923b8ca24cb04387": {
      "model_module": "@jupyter-widgets/controls",
      "model_module_version": "2.0.0",
      "model_name": "DropdownModel",
      "state": {
       "_dom_classes": [],
       "_model_module": "@jupyter-widgets/controls",
       "_model_module_version": "2.0.0",
       "_model_name": "DropdownModel",
       "_options_labels": [
        "Linear Regression",
        "Decision Tree"
       ],
       "_view_count": null,
       "_view_module": "@jupyter-widgets/controls",
       "_view_module_version": "2.0.0",
       "_view_name": "DropdownView",
       "description": "Model:",
       "description_allow_html": false,
       "disabled": false,
       "index": 0,
       "layout": "IPY_MODEL_1e060bb03d2b4b8886b5406c687725f1",
       "style": "IPY_MODEL_8f82afb6abf5465fa19627f73085542b",
       "tabbable": null,
       "tooltip": null
      }
     },
     "eb763a0572964713a93ba1eb21fc8ced": {
      "model_module": "@jupyter-widgets/base",
      "model_module_version": "2.0.0",
      "model_name": "LayoutModel",
      "state": {
       "_model_module": "@jupyter-widgets/base",
       "_model_module_version": "2.0.0",
       "_model_name": "LayoutModel",
       "_view_count": null,
       "_view_module": "@jupyter-widgets/base",
       "_view_module_version": "2.0.0",
       "_view_name": "LayoutView",
       "align_content": null,
       "align_items": null,
       "align_self": null,
       "border_bottom": null,
       "border_left": null,
       "border_right": null,
       "border_top": null,
       "bottom": null,
       "display": null,
       "flex": null,
       "flex_flow": null,
       "grid_area": null,
       "grid_auto_columns": null,
       "grid_auto_flow": null,
       "grid_auto_rows": null,
       "grid_column": null,
       "grid_gap": null,
       "grid_row": null,
       "grid_template_areas": null,
       "grid_template_columns": null,
       "grid_template_rows": null,
       "height": null,
       "justify_content": null,
       "justify_items": null,
       "left": null,
       "margin": null,
       "max_height": null,
       "max_width": null,
       "min_height": null,
       "min_width": null,
       "object_fit": null,
       "object_position": null,
       "order": null,
       "overflow": null,
       "padding": null,
       "right": null,
       "top": null,
       "visibility": null,
       "width": null
      }
     },
     "fb9fe7c32a4b4b7e8753a5de50f292c6": {
      "model_module": "@jupyter-widgets/controls",
      "model_module_version": "2.0.0",
      "model_name": "DescriptionStyleModel",
      "state": {
       "_model_module": "@jupyter-widgets/controls",
       "_model_module_version": "2.0.0",
       "_model_name": "DescriptionStyleModel",
       "_view_count": null,
       "_view_module": "@jupyter-widgets/base",
       "_view_module_version": "2.0.0",
       "_view_name": "StyleView",
       "description_width": ""
      }
     }
    },
    "version_major": 2,
    "version_minor": 0
   }
  }
 },
 "nbformat": 4,
 "nbformat_minor": 5
}
