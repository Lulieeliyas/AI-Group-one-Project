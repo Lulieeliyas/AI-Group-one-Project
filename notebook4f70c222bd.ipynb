{
 "cells": [
  {
   "cell_type": "code",
   "execution_count": 1,
   "id": "53344fee",
   "metadata": {
    "_cell_guid": "b1076dfc-b9ad-4769-8c92-a6c4dae69d19",
    "_uuid": "8f2839f25d086af736a60e9eeb907d3b93b6e0e5",
    "execution": {
     "iopub.execute_input": "2025-05-03T11:58:34.621075Z",
     "iopub.status.busy": "2025-05-03T11:58:34.620726Z",
     "iopub.status.idle": "2025-05-03T11:58:36.734720Z",
     "shell.execute_reply": "2025-05-03T11:58:36.733570Z"
    },
    "papermill": {
     "duration": 2.119403,
     "end_time": "2025-05-03T11:58:36.736597",
     "exception": false,
     "start_time": "2025-05-03T11:58:34.617194",
     "status": "completed"
    },
    "tags": []
   },
   "outputs": [
    {
     "name": "stdout",
     "output_type": "stream",
     "text": [
      "/kaggle/input/proojects/House Price.csv\n"
     ]
    }
   ],
   "source": [
    "# This Python 3 environment comes with many helpful analytics libraries installed\n",
    "# It is defined by the kaggle/python Docker image: https://github.com/kaggle/docker-python\n",
    "# For example, here's several helpful packages to load\n",
    "\n",
    "import numpy as np # linear algebra\n",
    "import pandas as pd # data processing, CSV file I/O (e.g. pd.read_csv)\n",
    "\n",
    "# Input data files are available in the read-only \"../input/\" directory\n",
    "# For example, running this (by clicking run or pressing Shift+Enter) will list all files under the input directory\n",
    "\n",
    "import os\n",
    "for dirname, _, filenames in os.walk('/kaggle/input'):\n",
    "    for filename in filenames:\n",
    "        print(os.path.join(dirname, filename))\n",
    "\n",
    "# You can write up to 20GB to the current directory (/kaggle/working/) that gets preserved as output when you create a version using \"Save & Run All\" \n",
    "# You can also write temporary files to /kaggle/temp/, but they won't be saved outside of the current session"
   ]
  },
  {
   "cell_type": "code",
   "execution_count": 2,
   "id": "aa0a0c3d",
   "metadata": {
    "execution": {
     "iopub.execute_input": "2025-05-03T11:58:36.742391Z",
     "iopub.status.busy": "2025-05-03T11:58:36.741901Z",
     "iopub.status.idle": "2025-05-03T11:58:39.644987Z",
     "shell.execute_reply": "2025-05-03T11:58:39.643748Z"
    },
    "papermill": {
     "duration": 2.908595,
     "end_time": "2025-05-03T11:58:39.647441",
     "exception": false,
     "start_time": "2025-05-03T11:58:36.738846",
     "status": "completed"
    },
    "tags": []
   },
   "outputs": [
    {
     "name": "stdout",
     "output_type": "stream",
     "text": [
      "First 5 rows of the dataset:\n",
      "      price  area  bedrooms  bathrooms  stories mainroad guestroom basement  \\\n",
      "0  13300000  7420         4          2        3      yes        no       no   \n",
      "1  12250000  8960         4          4        4      yes        no       no   \n",
      "2  12250000  9960         3          2        2      yes        no      yes   \n",
      "3  12215000  7500         4          2        2      yes        no      yes   \n",
      "4  11410000  7420         4          1        2      yes       yes      yes   \n",
      "\n",
      "  hotwaterheating airconditioning  parking prefarea furnishingstatus  \n",
      "0              no             yes        2      yes        furnished  \n",
      "1              no             yes        3       no        furnished  \n",
      "2              no              no        2      yes   semi-furnished  \n",
      "3              no             yes        3      yes        furnished  \n",
      "4              no             yes        2       no        furnished  \n",
      "\n",
      "Missing values:\n",
      " price               0\n",
      "area                0\n",
      "bedrooms            0\n",
      "bathrooms           0\n",
      "stories             0\n",
      "mainroad            0\n",
      "guestroom           0\n",
      "basement            0\n",
      "hotwaterheating     0\n",
      "airconditioning     0\n",
      "parking             0\n",
      "prefarea            0\n",
      "furnishingstatus    0\n",
      "dtype: int64\n",
      "\n",
      "Categorical columns to encode: ['mainroad', 'guestroom', 'basement', 'hotwaterheating', 'airconditioning', 'prefarea', 'furnishingstatus']\n",
      "\n",
      "Model Evaluation:\n",
      "R² Score: 0.6529242642153184\n",
      "Mean Squared Error: 1754318687330.6638\n"
     ]
    },
    {
     "data": {
      "image/png": "[encoded data removed]",
      "text/plain": [
       "<Figure size 800x600 with 1 Axes>"
      ]
     },
     "metadata": {},
     "output_type": "display_data"
    },
    {
     "name": "stdout",
     "output_type": "stream",
     "text": [
      "\n",
      "Predicted price for a new house: 4681386.405585102\n"
     ]
    }
   ],
   "source": [
    "# house_price_prediction.py\n",
    "\n",
    "import pandas as pd\n",
    "import numpy as np\n",
    "from sklearn.model_selection import train_test_split\n",
    "from sklearn.linear_model import LinearRegression\n",
    "from sklearn.metrics import mean_squared_error, r2_score\n",
    "import matplotlib.pyplot as plt\n",
    "import seaborn as sns\n",
    "\n",
    "# 1. Load dataset\n",
    "df = pd.read_csv('/kaggle/input/proojects/House Price.csv')  # Adjust path if needed\n",
    "\n",
    "# 2. Preview dataset\n",
    "print(\"First 5 rows of the dataset:\")\n",
    "print(df.head())\n",
    "\n",
    "# 3. Check for missing values and drop them\n",
    "print(\"\\nMissing values:\\n\", df.isnull().sum())\n",
    "df = df.dropna()\n",
    "\n",
    "# 4. Encode categorical columns to numeric\n",
    "categorical_cols = df.select_dtypes(include=['object']).columns\n",
    "print(\"\\nCategorical columns to encode:\", list(categorical_cols))\n",
    "\n",
    "df = pd.get_dummies(df, columns=categorical_cols, drop_first=True)\n",
    "\n",
    "# 5. Define features (X) and target (y)\n",
    "if 'price' not in df.columns:\n",
    "    raise ValueError(\"'price' column is missing from the dataset!\")\n",
    "\n",
    "X = df.drop('price', axis=1)\n",
    "y = df['price']\n",
    "\n",
    "# 6. Train-test split\n",
    "X_train, X_test, y_train, y_test = train_test_split(\n",
    "    X, y, test_size=0.2, random_state=42\n",
    ")\n",
    "\n",
    "# 7. Train the Linear Regression model\n",
    "model = LinearRegression()\n",
    "model.fit(X_train, y_train)\n",
    "\n",
    "# 8. Make predictions\n",
    "y_pred = model.predict(X_test)\n",
    "\n",
    "# 9. Evaluate the model\n",
    "print(\"\\nModel Evaluation:\")\n",
    "print(\"R² Score:\", r2_score(y_test, y_pred))\n",
    "print(\"Mean Squared Error:\", mean_squared_error(y_test, y_pred))\n",
    "\n",
    "# 10. Plot Actual vs Predicted Prices\n",
    "plt.figure(figsize=(8, 6))\n",
    "sns.scatterplot(x=y_test, y=y_pred, color='blue')\n",
    "plt.xlabel(\"Actual Prices\")\n",
    "plt.ylabel(\"Predicted Prices\")\n",
    "plt.title(\"Actual vs Predicted House Prices\")\n",
    "plt.grid(True)\n",
    "plt.show()\n",
    "\n",
    "# 11. Predict a new house price (adjust features to match encoded columns)\n",
    "# For simplicity, we're using the same features as in training\n",
    "# You can view feature names using: print(X.columns)\n",
    "sample_input = pd.DataFrame([X.columns], columns=X.columns)  # placeholder\n",
    "sample_input.iloc[0] = 0  # initialize all values to 0\n",
    "\n",
    "# Set values for a sample prediction (replace based on your dataset's features)\n",
    "sample_input.at[0, 'area'] = 2800\n",
    "sample_input.at[0, 'bedrooms'] = 4\n",
    "sample_input.at[0, 'bathrooms'] = 2\n",
    "sample_input.at[0, 'stories'] = 2\n",
    "sample_input.at[0, 'parking'] = 2\n",
    "\n",
    "predicted_price = model.predict(sample_input)\n",
    "print(\"\\nPredicted price for a new house:\", predicted_price[0])\n"
   ]
  },
  {
   "cell_type": "code",
   "execution_count": 3,
   "id": "7b5a7297",
   "metadata": {
    "execution": {
     "iopub.execute_input": "2025-05-03T11:58:39.655085Z",
     "iopub.status.busy": "2025-05-03T11:58:39.654255Z",
     "iopub.status.idle": "2025-05-03T11:58:39.889793Z",
     "shell.execute_reply": "2025-05-03T11:58:39.888787Z"
    },
    "papermill": {
     "duration": 0.240994,
     "end_time": "2025-05-03T11:58:39.891262",
     "exception": false,
     "start_time": "2025-05-03T11:58:39.650268",
     "status": "completed"
    },
    "tags": []
   },
   "outputs": [
    {
     "name": "stdout",
     "output_type": "stream",
     "text": [
      "First 5 rows of the dataset:\n",
      "      price  area  bedrooms  bathrooms  stories mainroad guestroom basement  \\\n",
      "0  13300000  7420         4          2        3      yes        no       no   \n",
      "1  12250000  8960         4          4        4      yes        no       no   \n",
      "2  12250000  9960         3          2        2      yes        no      yes   \n",
      "3  12215000  7500         4          2        2      yes        no      yes   \n",
      "4  11410000  7420         4          1        2      yes       yes      yes   \n",
      "\n",
      "  hotwaterheating airconditioning  parking prefarea furnishingstatus  \n",
      "0              no             yes        2      yes        furnished  \n",
      "1              no             yes        3       no        furnished  \n",
      "2              no              no        2      yes   semi-furnished  \n",
      "3              no             yes        3      yes        furnished  \n",
      "4              no             yes        2       no        furnished  \n",
      "\n",
      "Missing values:\n",
      " price               0\n",
      "area                0\n",
      "bedrooms            0\n",
      "bathrooms           0\n",
      "stories             0\n",
      "mainroad            0\n",
      "guestroom           0\n",
      "basement            0\n",
      "hotwaterheating     0\n",
      "airconditioning     0\n",
      "parking             0\n",
      "prefarea            0\n",
      "furnishingstatus    0\n",
      "dtype: int64\n",
      "\n",
      "Categorical columns to encode: ['mainroad', 'guestroom', 'basement', 'hotwaterheating', 'airconditioning', 'prefarea', 'furnishingstatus']\n",
      "\n",
      "Model Evaluation:\n",
      "R² Score: 0.6494754192267804\n",
      "Mean Squared Error: 1771751116594.0347\n"
     ]
    },
    {
     "data": {
      "image/png": "[encoded data removed]",
      "text/plain": [
       "<Figure size 800x600 with 1 Axes>"
      ]
     },
     "metadata": {},
     "output_type": "display_data"
    },
    {
     "name": "stdout",
     "output_type": "stream",
     "text": [
      "\n",
      "Predicted price for a new house: 4468790.236875849\n"
     ]
    }
   ],
   "source": [
    "# alternative_house_price_prediction.py\n",
    "\n",
    "import pandas as pd\n",
    "import numpy as np\n",
    "from sklearn.model_selection import train_test_split\n",
    "from sklearn.linear_model import LinearRegression\n",
    "from sklearn.metrics import mean_squared_error, r2_score\n",
    "from sklearn.preprocessing import LabelEncoder\n",
    "import matplotlib.pyplot as plt\n",
    "import seaborn as sns\n",
    "\n",
    "# 1. Load the dataset\n",
    "df = pd.read_csv('/kaggle/input/proojects/House Price.csv')  # Adjust this path if needed\n",
    "\n",
    "# 2. Preview dataset\n",
    "print(\"First 5 rows of the dataset:\")\n",
    "print(df.head())\n",
    "\n",
    "# 3. Handle missing values\n",
    "print(\"\\nMissing values:\\n\", df.isnull().sum())\n",
    "df = df.dropna()\n",
    "\n",
    "# 4. Encode categorical columns using Label Encoding\n",
    "categorical_cols = df.select_dtypes(include=['object']).columns\n",
    "print(\"\\nCategorical columns to encode:\", list(categorical_cols))\n",
    "\n",
    "label_encoders = {}\n",
    "for col in categorical_cols:\n",
    "    le = LabelEncoder()\n",
    "    df[col] = le.fit_transform(df[col])\n",
    "    label_encoders[col] = le  # Store encoder if needed later for new input\n",
    "\n",
    "# 5. Define features and target\n",
    "if 'price' not in df.columns:\n",
    "    raise ValueError(\"'price' column is missing from the dataset!\")\n",
    "\n",
    "X = df.drop('price', axis=1)\n",
    "y = df['price']\n",
    "\n",
    "# 6. Train-test split\n",
    "X_train, X_test, y_train, y_test = train_test_split(\n",
    "    X, y, test_size=0.2, random_state=42\n",
    ")\n",
    "\n",
    "# 7. Train the Linear Regression model\n",
    "model = LinearRegression()\n",
    "model.fit(X_train, y_train)\n",
    "\n",
    "# 8. Predict on test set\n",
    "y_pred = model.predict(X_test)\n",
    "\n",
    "# 9. Evaluate the model\n",
    "print(\"\\nModel Evaluation:\")\n",
    "print(\"R² Score:\", r2_score(y_test, y_pred))\n",
    "print(\"Mean Squared Error:\", mean_squared_error(y_test, y_pred))\n",
    "\n",
    "# 10. Plot Actual vs Predicted Prices\n",
    "plt.figure(figsize=(8, 6))\n",
    "sns.scatterplot(x=y_test, y=y_pred, color='green')\n",
    "plt.xlabel(\"Actual Prices\")\n",
    "plt.ylabel(\"Predicted Prices\")\n",
    "plt.title(\"Actual vs Predicted House Prices\")\n",
    "plt.grid(True)\n",
    "plt.show()\n",
    "\n",
    "# 11. Predict price of a new house\n",
    "# Create a new sample row with encoded values\n",
    "# Example: if 'furnishing' was encoded as {unfurnished:0, semi-furnished:1, furnished:2}\n",
    "\n",
    "new_data = {\n",
    "    'area': 3000,\n",
    "    'bedrooms': 3,\n",
    "    'bathrooms': 2,\n",
    "    'stories': 2,\n",
    "    'parking': 1\n",
    "}\n",
    "\n",
    "# Add encoded categorical values (update keys based on your dataset)\n",
    "# For example:\n",
    "# new_data['furnishing'] = label_encoders['furnishing'].transform(['furnished'])[0]\n",
    "\n",
    "# Build DataFrame\n",
    "new_input = pd.DataFrame([new_data])\n",
    "new_input = new_input.reindex(columns=X.columns, fill_value=0)  # align with training columns\n",
    "\n",
    "predicted_price = model.predict(new_input)\n",
    "print(\"\\nPredicted price for a new house:\", predicted_price[0])\n"
   ]
  }
 ],
 "metadata": {
  "kaggle": {
   "accelerator": "none",
   "dataSources": [
    {
     "datasetId": 7317790,
     "sourceId": 11660724,
     "sourceType": "datasetVersion"
    }
   ],
   "dockerImageVersionId": 31012,
   "isGpuEnabled": false,
   "isInternetEnabled": false,
   "language": "python",
   "sourceType": "notebook"
  },
  "kernelspec": {
   "display_name": "Python 3",
   "language": "python",
   "name": "python3"
  },
  "language_info": {
   "codemirror_mode": {
    "name": "ipython",
    "version": 3
   },
   "file_extension": ".py",
   "mimetype": "text/x-python",
   "name": "python",
   "nbconvert_exporter": "python",
   "pygments_lexer": "ipython3",
   "version": "3.11.11"
  },
  "papermill": {
   "default_parameters": {},
   "duration": 11.089653,
   "end_time": "2025-05-03T11:58:40.616079",
   "environment_variables": {},
   "exception": null,
   "input_path": "__notebook__.ipynb",
   "output_path": "__notebook__.ipynb",
   "parameters": {},
   "start_time": "2025-05-03T11:58:29.526426",
   "version": "2.6.0"
  }
 },
 "nbformat": 4,
 "nbformat_minor": 5
}
